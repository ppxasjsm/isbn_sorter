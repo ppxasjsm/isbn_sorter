{
 "cells": [
  {
   "cell_type": "code",
   "execution_count": 2,
   "metadata": {
    "collapsed": false
   },
   "outputs": [],
   "source": [
    "#Imports\n",
    "import urllib\n",
    "import json\n",
    "from pprint import pprint"
   ]
  },
  {
   "cell_type": "code",
   "execution_count": 121,
   "metadata": {
    "collapsed": false
   },
   "outputs": [],
   "source": [
    "def get_book_info(isbn):\n",
    "    url = 'https://www.googleapis.com/books/v1/volumes?q=isbn:' + isbn\n",
    "    print url\n",
    "    response = urllib.urlopen(url)\n",
    "    book = json.loads(response.read())\n",
    "    book_dic = {}\n",
    "    if book['totalItems'] == 0:\n",
    "        print ('There seems to be an error with the isbn, no book could be found')\n",
    "        book = isbnlib.meta(isbn)\n",
    "        if book == None:\n",
    "            print('Giving up, try and look for it on amazon')\n",
    "        else:\n",
    "            book_dic['authors'] = book['Authors'][0]\n",
    "            book_dic['title'] = book['Title']\n",
    "            book_dic['year'] = book ['Year']\n",
    "            book_dic['language'] = book ['Language']\n",
    "            book_dic['pageCount'] = 'u'\n",
    "            book_dic['subtitle'] = 'u'\n",
    "            \n",
    "    else:\n",
    "        book_dic['authors'] = book['items'][0]['volumeInfo']['authors'][0]\n",
    "        book_dic['language'] = book['items'][0]['volumeInfo']['language']\n",
    "        book_dic['pageCount'] = book['items'][0]['volumeInfo']['pageCount']\n",
    "        book_dic['title'] = book['items'][0]['volumeInfo']['title']\n",
    "        book_dic['subtitle'] = book['items'][0]['volumeInfo']['subtitle']\n",
    "        book_dic['year'] = book['items'][0]['volumeInfo']['publishedDate']\n",
    "    return book_dic"
   ]
  },
  {
   "cell_type": "code",
   "execution_count": 119,
   "metadata": {
    "collapsed": true
   },
   "outputs": [],
   "source": [
    "f = open('data/data.txt', 'r')\n",
    "data = f.readlines()\n",
    "f.close()"
   ]
  },
  {
   "cell_type": "code",
   "execution_count": 122,
   "metadata": {
    "collapsed": false
   },
   "outputs": [
    {
     "name": "stdout",
     "output_type": "stream",
     "text": [
      "9780340592847\n",
      "https://www.googleapis.com/books/v1/volumes?q=isbn:9780340592847\n",
      "There seems to be an error with the isbn, no book could be found\n",
      "===============================\n",
      "9780340588673\n",
      "https://www.googleapis.com/books/v1/volumes?q=isbn:9780340588673\n",
      "There seems to be an error with the isbn, no book could be found\n",
      "===============================\n",
      "9783800026166\n",
      "https://www.googleapis.com/books/v1/volumes?q=isbn:9783800026166\n",
      "===============================\n",
      "9783791530123\n",
      "https://www.googleapis.com/books/v1/volumes?q=isbn:9783791530123\n",
      "===============================\n",
      "3423790083\n",
      "https://www.googleapis.com/books/v1/volumes?q=isbn:3423790083\n",
      "There seems to be an error with the isbn, no book could be found\n",
      "===============================\n",
      "352210580X\n",
      "https://www.googleapis.com/books/v1/volumes?q=isbn:352210580X\n",
      "There seems to be an error with the isbn, no book could be found\n",
      "===============================\n",
      "9783473345656\n",
      "https://www.googleapis.com/books/v1/volumes?q=isbn:9783473345656\n",
      "===============================\n",
      "9783570203033\n",
      "https://www.googleapis.com/books/v1/volumes?q=isbn:9783570203033\n",
      "There seems to be an error with the isbn, no book could be found\n",
      "===============================\n",
      "9783473345724\n",
      "https://www.googleapis.com/books/v1/volumes?q=isbn:9783473345724\n",
      "There seems to be an error with the isbn, no book could be found\n",
      "===============================\n",
      "9783473345649\n",
      "https://www.googleapis.com/books/v1/volumes?q=isbn:9783473345649\n",
      "===============================\n"
     ]
    }
   ],
   "source": [
    "dictionary_list = []\n",
    "for l in data:\n",
    "    entry =  l.split(' ')\n",
    "    e = entry[0]\n",
    "    ISBN=e.split('：')\n",
    "    if ISBN[0]!='ISBN':\n",
    "        print 'wrong format of file, first entry should be an ISBN!'\n",
    "    print (ISBN[1])\n",
    "    #get_book_info(ISBN[1])\n",
    "    dictionary_list.append(get_book_info(ISBN[1]))\n",
    "    print ('===============================')"
   ]
  },
  {
   "cell_type": "code",
   "execution_count": 123,
   "metadata": {
    "collapsed": false
   },
   "outputs": [
    {
     "name": "stdout",
     "output_type": "stream",
     "text": [
      "[{'subtitle': 'u', 'language': u'', 'pageCount': 'u', 'title': u'Missing!', 'authors': u'Fiona Kelly', 'year': u''}, {'subtitle': 'u', 'language': u'', 'pageCount': 'u', 'title': u'Secret clues', 'authors': u'Fiona Kelly', 'year': u''}, {'subtitle': u'eine fantastische Geschichte', 'language': u'de', 'title': u'Krieg der Engel', 'pageCount': 563, 'authors': u'Wolfgang Hohlbein', 'year': u'1999'}, {'subtitle': u'ein Roman f\\xfcr Kinder', 'language': u'ja', 'title': u'Emil und die Detektive', 'pageCount': 166, 'authors': u'Erich K\\xe4stner', 'year': u'1980'}, {'subtitle': 'u', 'language': u'', 'pageCount': 'u', 'title': u'Wunderbare Fahrten und Abenteuer der kleinen Dott', 'authors': u'Tamara Ramsay', 'year': u''}, {'subtitle': 'u', 'language': u'', 'pageCount': 'u', 'title': u'The little witch', 'authors': u'Otfried Preussler', 'year': u''}, {'subtitle': u'Spur des Gifts / aus dem Engl. von Simone Wiemken', 'language': u'de', 'title': u'Mystery-Club', 'pageCount': 190, 'authors': u'Fiona Kelly', 'year': u'1999-01'}, {'subtitle': 'u', 'language': u'', 'pageCount': 'u', 'title': u'Nesth\\xe4kchen und ihre K\\xfcken: Erz\\xe4hlung f\\xfcr j\\xfcnge M\\xe4dchen', 'authors': u'Else Ury', 'year': u'2015'}, {'subtitle': 'u', 'language': u'', 'pageCount': 'u', 'title': u'Mystery Club 22. Spionage - eiskalt', 'authors': u'Fiona Kelly', 'year': u'2002'}, {'subtitle': u'Notlandung im Gebirge / aus dem Engl. von Simone Wiemken', 'language': u'de', 'title': u'Mystery-Club', 'pageCount': 191, 'authors': u'Fiona Kelly', 'year': u'1998'}]\n"
     ]
    }
   ],
   "source": [
    "print dictionary_list"
   ]
  },
  {
   "cell_type": "code",
   "execution_count": 111,
   "metadata": {
    "collapsed": false
   },
   "outputs": [
    {
     "ename": "ValueError",
     "evalue": "No JSON object could be decoded",
     "output_type": "error",
     "traceback": [
      "\u001b[0;31m---------------------------------------------------------------------------\u001b[0m",
      "\u001b[0;31mValueError\u001b[0m                                Traceback (most recent call last)",
      "\u001b[0;32m<ipython-input-111-589dfc44bdf5>\u001b[0m in \u001b[0;36m<module>\u001b[0;34m()\u001b[0m\n\u001b[1;32m      1\u001b[0m \u001b[0mresponse\u001b[0m \u001b[0;34m=\u001b[0m \u001b[0murllib\u001b[0m\u001b[0;34m.\u001b[0m\u001b[0murlopen\u001b[0m\u001b[0;34m(\u001b[0m\u001b[0murl\u001b[0m\u001b[0;34m)\u001b[0m\u001b[0;34m\u001b[0m\u001b[0m\n\u001b[0;32m----> 2\u001b[0;31m \u001b[0mbook\u001b[0m \u001b[0;34m=\u001b[0m \u001b[0mjson\u001b[0m\u001b[0;34m.\u001b[0m\u001b[0mloads\u001b[0m\u001b[0;34m(\u001b[0m\u001b[0mresponse\u001b[0m\u001b[0;34m.\u001b[0m\u001b[0mread\u001b[0m\u001b[0;34m(\u001b[0m\u001b[0;34m)\u001b[0m\u001b[0;34m)\u001b[0m\u001b[0;34m\u001b[0m\u001b[0m\n\u001b[0m",
      "\u001b[0;32m/Users/toni_brain/miniconda3/envs/py2k/lib/python2.7/json/__init__.pyc\u001b[0m in \u001b[0;36mloads\u001b[0;34m(s, encoding, cls, object_hook, parse_float, parse_int, parse_constant, object_pairs_hook, **kw)\u001b[0m\n\u001b[1;32m    337\u001b[0m             \u001b[0mparse_int\u001b[0m \u001b[0;32mis\u001b[0m \u001b[0mNone\u001b[0m \u001b[0;32mand\u001b[0m \u001b[0mparse_float\u001b[0m \u001b[0;32mis\u001b[0m \u001b[0mNone\u001b[0m \u001b[0;32mand\u001b[0m\u001b[0;34m\u001b[0m\u001b[0m\n\u001b[1;32m    338\u001b[0m             parse_constant is None and object_pairs_hook is None and not kw):\n\u001b[0;32m--> 339\u001b[0;31m         \u001b[0;32mreturn\u001b[0m \u001b[0m_default_decoder\u001b[0m\u001b[0;34m.\u001b[0m\u001b[0mdecode\u001b[0m\u001b[0;34m(\u001b[0m\u001b[0ms\u001b[0m\u001b[0;34m)\u001b[0m\u001b[0;34m\u001b[0m\u001b[0m\n\u001b[0m\u001b[1;32m    340\u001b[0m     \u001b[0;32mif\u001b[0m \u001b[0mcls\u001b[0m \u001b[0;32mis\u001b[0m \u001b[0mNone\u001b[0m\u001b[0;34m:\u001b[0m\u001b[0;34m\u001b[0m\u001b[0m\n\u001b[1;32m    341\u001b[0m         \u001b[0mcls\u001b[0m \u001b[0;34m=\u001b[0m \u001b[0mJSONDecoder\u001b[0m\u001b[0;34m\u001b[0m\u001b[0m\n",
      "\u001b[0;32m/Users/toni_brain/miniconda3/envs/py2k/lib/python2.7/json/decoder.pyc\u001b[0m in \u001b[0;36mdecode\u001b[0;34m(self, s, _w)\u001b[0m\n\u001b[1;32m    362\u001b[0m \u001b[0;34m\u001b[0m\u001b[0m\n\u001b[1;32m    363\u001b[0m         \"\"\"\n\u001b[0;32m--> 364\u001b[0;31m         \u001b[0mobj\u001b[0m\u001b[0;34m,\u001b[0m \u001b[0mend\u001b[0m \u001b[0;34m=\u001b[0m \u001b[0mself\u001b[0m\u001b[0;34m.\u001b[0m\u001b[0mraw_decode\u001b[0m\u001b[0;34m(\u001b[0m\u001b[0ms\u001b[0m\u001b[0;34m,\u001b[0m \u001b[0midx\u001b[0m\u001b[0;34m=\u001b[0m\u001b[0m_w\u001b[0m\u001b[0;34m(\u001b[0m\u001b[0ms\u001b[0m\u001b[0;34m,\u001b[0m \u001b[0;36m0\u001b[0m\u001b[0;34m)\u001b[0m\u001b[0;34m.\u001b[0m\u001b[0mend\u001b[0m\u001b[0;34m(\u001b[0m\u001b[0;34m)\u001b[0m\u001b[0;34m)\u001b[0m\u001b[0;34m\u001b[0m\u001b[0m\n\u001b[0m\u001b[1;32m    365\u001b[0m         \u001b[0mend\u001b[0m \u001b[0;34m=\u001b[0m \u001b[0m_w\u001b[0m\u001b[0;34m(\u001b[0m\u001b[0ms\u001b[0m\u001b[0;34m,\u001b[0m \u001b[0mend\u001b[0m\u001b[0;34m)\u001b[0m\u001b[0;34m.\u001b[0m\u001b[0mend\u001b[0m\u001b[0;34m(\u001b[0m\u001b[0;34m)\u001b[0m\u001b[0;34m\u001b[0m\u001b[0m\n\u001b[1;32m    366\u001b[0m         \u001b[0;32mif\u001b[0m \u001b[0mend\u001b[0m \u001b[0;34m!=\u001b[0m \u001b[0mlen\u001b[0m\u001b[0;34m(\u001b[0m\u001b[0ms\u001b[0m\u001b[0;34m)\u001b[0m\u001b[0;34m:\u001b[0m\u001b[0;34m\u001b[0m\u001b[0m\n",
      "\u001b[0;32m/Users/toni_brain/miniconda3/envs/py2k/lib/python2.7/json/decoder.pyc\u001b[0m in \u001b[0;36mraw_decode\u001b[0;34m(self, s, idx)\u001b[0m\n\u001b[1;32m    380\u001b[0m             \u001b[0mobj\u001b[0m\u001b[0;34m,\u001b[0m \u001b[0mend\u001b[0m \u001b[0;34m=\u001b[0m \u001b[0mself\u001b[0m\u001b[0;34m.\u001b[0m\u001b[0mscan_once\u001b[0m\u001b[0;34m(\u001b[0m\u001b[0ms\u001b[0m\u001b[0;34m,\u001b[0m \u001b[0midx\u001b[0m\u001b[0;34m)\u001b[0m\u001b[0;34m\u001b[0m\u001b[0m\n\u001b[1;32m    381\u001b[0m         \u001b[0;32mexcept\u001b[0m \u001b[0mStopIteration\u001b[0m\u001b[0;34m:\u001b[0m\u001b[0;34m\u001b[0m\u001b[0m\n\u001b[0;32m--> 382\u001b[0;31m             \u001b[0;32mraise\u001b[0m \u001b[0mValueError\u001b[0m\u001b[0;34m(\u001b[0m\u001b[0;34m\"No JSON object could be decoded\"\u001b[0m\u001b[0;34m)\u001b[0m\u001b[0;34m\u001b[0m\u001b[0m\n\u001b[0m\u001b[1;32m    383\u001b[0m         \u001b[0;32mreturn\u001b[0m \u001b[0mobj\u001b[0m\u001b[0;34m,\u001b[0m \u001b[0mend\u001b[0m\u001b[0;34m\u001b[0m\u001b[0m\n",
      "\u001b[0;31mValueError\u001b[0m: No JSON object could be decoded"
     ]
    }
   ],
   "source": [
    "response = urllib.urlopen(url)\n",
    "book = json.loads(response.read())"
   ]
  },
  {
   "cell_type": "code",
   "execution_count": 114,
   "metadata": {
    "collapsed": false
   },
   "outputs": [
    {
     "data": {
      "text/plain": [
       "''"
      ]
     },
     "execution_count": 114,
     "metadata": {},
     "output_type": "execute_result"
    }
   ],
   "source": [
    "response.read()"
   ]
  },
  {
   "cell_type": "code",
   "execution_count": 17,
   "metadata": {
    "collapsed": false
   },
   "outputs": [
    {
     "name": "stdout",
     "output_type": "stream",
     "text": [
      "https://www.googleapis.com/books/v1/volumes?q=isbn:9783473345649\n"
     ]
    }
   ],
   "source": [
    "url = 'https://www.googleapis.com/books/v1/volumes?q=isbn:' + pair[1]\n",
    "print url\n",
    "#response = urlfetch.fetch(url);\n",
    "#results = JSON.parse(response);"
   ]
  },
  {
   "cell_type": "code",
   "execution_count": 39,
   "metadata": {
    "collapsed": true
   },
   "outputs": [],
   "source": [
    "import urllib\n",
    "import json\n",
    "from pprint import pprint\n",
    "response = urllib.urlopen(url)\n",
    "data = json.loads(response.read())"
   ]
  },
  {
   "cell_type": "code",
   "execution_count": 60,
   "metadata": {
    "collapsed": false
   },
   "outputs": [
    {
     "name": "stdout",
     "output_type": "stream",
     "text": [
      "Fiona Kelly\n",
      "de\n",
      "191\n",
      "Mystery-Club\n",
      "Notlandung im Gebirge / aus dem Engl. von Simone Wiemken\n",
      "1998\n"
     ]
    }
   ],
   "source": [
    "print data['items'][0]['volumeInfo']['authors'][0]\n",
    "print data['items'][0]['volumeInfo']['language']\n",
    "print data['items'][0]['volumeInfo']['pageCount']\n",
    "print data['items'][0]['volumeInfo']['title']\n",
    "print data['items'][0]['volumeInfo']['subtitle']\n",
    "print data['items'][0]['volumeInfo']['publishedDate']"
   ]
  },
  {
   "cell_type": "code",
   "execution_count": 31,
   "metadata": {
    "collapsed": false
   },
   "outputs": [
    {
     "data": {
      "text/plain": [
       "{u'items': [{u'accessInfo': {u'accessViewStatus': u'NONE',\n",
       "    u'country': u'DE',\n",
       "    u'embeddable': False,\n",
       "    u'epub': {u'isAvailable': False},\n",
       "    u'pdf': {u'isAvailable': False},\n",
       "    u'publicDomain': False,\n",
       "    u'quoteSharingAllowed': False,\n",
       "    u'textToSpeechPermission': u'ALLOWED',\n",
       "    u'viewability': u'NO_PAGES',\n",
       "    u'webReaderLink': u'http://books.google.de/books/reader?id=wlRDPQAACAAJ&hl=&printsec=frontcover&output=reader&source=gbs_api'},\n",
       "   u'etag': u'U9qAoSooTNI',\n",
       "   u'id': u'wlRDPQAACAAJ',\n",
       "   u'kind': u'books#volume',\n",
       "   u'saleInfo': {u'country': u'DE',\n",
       "    u'isEbook': False,\n",
       "    u'saleability': u'NOT_FOR_SALE'},\n",
       "   u'searchInfo': {u'textSnippet': u'Holly, Belinda und Tracy verbringen ihre Ferien in Schottland. Dabei werden sie Zeugen eines Sportflugzeug-Unfalls. Mit ihrem Freund Bobby sind sie die ersten an der Ungl\\xfccksstelle. Vom Piloten und einem Geldkoffer fehlt jedoch jede Spur.'},\n",
       "   u'selfLink': u'https://www.googleapis.com/books/v1/volumes/wlRDPQAACAAJ',\n",
       "   u'volumeInfo': {u'allowAnonLogging': False,\n",
       "    u'authors': [u'Fiona Kelly'],\n",
       "    u'canonicalVolumeLink': u'http://books.google.de/books/about/Mystery_Club.html?hl=&id=wlRDPQAACAAJ',\n",
       "    u'contentVersion': u'preview-1.0.0',\n",
       "    u'description': u'Holly, Belinda und Tracy verbringen ihre Ferien in Schottland. Dabei werden sie Zeugen eines Sportflugzeug-Unfalls. Mit ihrem Freund Bobby sind sie die ersten an der Ungl\\xfccksstelle. Vom Piloten und einem Geldkoffer fehlt jedoch jede Spur.',\n",
       "    u'imageLinks': {u'smallThumbnail': u'http://books.google.com/books/content?id=wlRDPQAACAAJ&printsec=frontcover&img=1&zoom=5&source=gbs_api',\n",
       "     u'thumbnail': u'http://books.google.com/books/content?id=wlRDPQAACAAJ&printsec=frontcover&img=1&zoom=1&source=gbs_api'},\n",
       "    u'industryIdentifiers': [{u'identifier': u'3473345644',\n",
       "      u'type': u'ISBN_10'},\n",
       "     {u'identifier': u'9783473345649', u'type': u'ISBN_13'}],\n",
       "    u'infoLink': u'http://books.google.de/books?id=wlRDPQAACAAJ&dq=isbn:9783473345649&hl=&source=gbs_api',\n",
       "    u'language': u'de',\n",
       "    u'maturityRating': u'NOT_MATURE',\n",
       "    u'pageCount': 191,\n",
       "    u'previewLink': u'http://books.google.de/books?id=wlRDPQAACAAJ&dq=isbn:9783473345649&hl=&cd=1&source=gbs_api',\n",
       "    u'printType': u'BOOK',\n",
       "    u'publishedDate': u'1998',\n",
       "    u'readingModes': {u'image': False, u'text': False},\n",
       "    u'subtitle': u'Notlandung im Gebirge / aus dem Engl. von Simone Wiemken',\n",
       "    u'title': u'Mystery-Club'}}],\n",
       " u'kind': u'books#volumes',\n",
       " u'totalItems': 1}"
      ]
     },
     "execution_count": 31,
     "metadata": {},
     "output_type": "execute_result"
    }
   ],
   "source": [
    "data"
   ]
  },
  {
   "cell_type": "code",
   "execution_count": null,
   "metadata": {
    "collapsed": true
   },
   "outputs": [],
   "source": []
  }
 ],
 "metadata": {
  "anaconda-cloud": {},
  "kernelspec": {
   "display_name": "Python 2",
   "language": "python",
   "name": "python2"
  },
  "language_info": {
   "codemirror_mode": {
    "name": "ipython",
    "version": 2
   },
   "file_extension": ".py",
   "mimetype": "text/x-python",
   "name": "python",
   "nbconvert_exporter": "python",
   "pygments_lexer": "ipython2",
   "version": "2.7.12"
  }
 },
 "nbformat": 4,
 "nbformat_minor": 0
}
