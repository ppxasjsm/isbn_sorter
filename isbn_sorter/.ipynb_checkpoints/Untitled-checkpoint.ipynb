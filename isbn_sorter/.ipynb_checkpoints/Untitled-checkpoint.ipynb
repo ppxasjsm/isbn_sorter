{
 "cells": [
  {
   "cell_type": "code",
   "execution_count": 2,
   "metadata": {
    "collapsed": false
   },
   "outputs": [],
   "source": [
    "#Imports\n",
    "import urllib\n",
    "import json\n",
    "from pprint import pprint"
   ]
  },
  {
   "cell_type": "code",
   "execution_count": 106,
   "metadata": {
    "collapsed": false
   },
   "outputs": [],
   "source": [
    "def get_book_info(isbn):\n",
    "    url = 'https://www.googleapis.com/books/v1/volumes?q=isbn:' + isbn\n",
    "    print url\n",
    "    response = urllib.urlopen(url)\n",
    "    book = json.loads(response.read())\n",
    "    book_dic = {}\n",
    "    if book['totalItems'] == 0:\n",
    "        print ('There seems to be an error with the isbn, no book could be found')\n",
    "        book = isbnlib.meta(isbn)\n",
    "        if book == None:\n",
    "            print('Giving up, try and look for it on amazon')\n",
    "        else:\n",
    "            book_dic['authors'] = book['Authors'][0]\n",
    "            book_dic['title'] = book['Title']\n",
    "            book_dic['year'] = book ['Year']\n",
    "            book_dic['language'] = book ['Language']\n",
    "    else:\n",
    "        print book\n",
    "        book_dic['authors'] = book['items'][0]['volumeInfo']['authors'][0]\n",
    "        book_dic['language'] = book['items'][0]['volumeInfo']['language']\n",
    "        book_dic['pageCount'] = book['items'][0]['volumeInfo']['pageCount']\n",
    "        book_dic['title'] = book['items'][0]['volumeInfo']['title']\n",
    "        book_dic['subtitle'] = book['items'][0]['volumeInfo']['subtitle']\n",
    "        book_dic['year'] = book['items'][0]['volumeInfo']['publishedDate']\n",
    "    return book_dic"
   ]
  },
  {
   "cell_type": "code",
   "execution_count": 107,
   "metadata": {
    "collapsed": true
   },
   "outputs": [],
   "source": [
    "f = open('data/data.txt', 'r')\n",
    "data = f.readlines()\n",
    "f.close()"
   ]
  },
  {
   "cell_type": "code",
   "execution_count": 108,
   "metadata": {
    "collapsed": false
   },
   "outputs": [
    {
     "name": "stdout",
     "output_type": "stream",
     "text": [
      "9780340592847\n",
      "https://www.googleapis.com/books/v1/volumes?q=isbn:9780340592847\n",
      "There seems to be an error with the isbn, no book could be found\n",
      "{'Publisher': u'', 'Language': u'', 'Title': u'Missing!', 'Authors': [u'Fiona Kelly'], 'ISBN-13': u'9780340592847', 'Year': u''}\n",
      "===============================\n",
      "9780340588673\n",
      "https://www.googleapis.com/books/v1/volumes?q=isbn:9780340588673\n",
      "There seems to be an error with the isbn, no book could be found\n",
      "{'Publisher': u'', 'Language': u'', 'Title': u'Secret clues', 'Authors': [u'Fiona Kelly'], 'ISBN-13': u'9780340588673', 'Year': u''}\n",
      "===============================\n",
      "9783800026166\n",
      "https://www.googleapis.com/books/v1/volumes?q=isbn:9783800026166\n",
      "{u'totalItems': 1, u'items': [{u'kind': u'books#volume', u'volumeInfo': {u'subtitle': u'eine fantastische Geschichte', u'description': u'Erneut legt das bew\\xe4hrte Autoren-Team einen Fantasy-Roman vor, der Schrecken und Grauen gekonnt mischt, um den Leser mit haarstr\\xe4ubenden Begebenheiten ins Zittern zu bringen. Der 15-j\\xe4hrige Eric steht im Mittelpunkt einer Geschichte, die einmal mehr eine Auseinandersetzung zwischen guten und b\\xf6sen M\\xe4dchen ist. Erics Traum von einer toten Landschaft, die von einer gewaltigen schwarzen Kathedrale beherrscht wird, in der sich D\\xe4monen breit machen, wird Realit\\xe4t. Er wird hineingezogen in den Kampf zwischen schwarzen und wei\\xdfen Engeln, der in einer apokalyptischen Schlacht gipfelt, bei der Azalels h\\xf6llische Heerscharen sich mit D\\xe4monen und Tiermenschen in Gemetzel verstricken. Reichlich viel an Horrorszenarien, erm\\xfcdenden Verfolgungsjagden, Blutlachen und brechenden Gliedma\\xdfen wird den Lesern zugemutet. Vers\\xf6hnlich, dass der ge\\xfcbte Autor den Guten im unschuldigen Wei\\xdf letztlich den Sieg g\\xf6nnt und seinen sympathischen Protagonisten Eric in nachahmenswert mutiger Tapferkeit agieren l\\xe4sst. Lesefutter f\\xfcr die zahlreichen Hohlbein-Fans.', u'language': u'de', u'publishedDate': u'1999', u'readingModes': {u'text': False, u'image': False}, u'previewLink': u'http://books.google.de/books?id=4ZOwAAAACAAJ&dq=isbn:9783800026166&hl=&cd=1&source=gbs_api', u'title': u'Krieg der Engel', u'printType': u'BOOK', u'pageCount': 563, u'maturityRating': u'NOT_MATURE', u'contentVersion': u'preview-1.0.0', u'industryIdentifiers': [{u'identifier': u'3800026163', u'type': u'ISBN_10'}, {u'identifier': u'9783800026166', u'type': u'ISBN_13'}], u'authors': [u'Wolfgang Hohlbein', u'Heike Hohlbein'], u'allowAnonLogging': False, u'infoLink': u'http://books.google.de/books?id=4ZOwAAAACAAJ&dq=isbn:9783800026166&hl=&source=gbs_api', u'categories': [u'Angels'], u'canonicalVolumeLink': u'http://books.google.de/books/about/Krieg_der_Engel.html?hl=&id=4ZOwAAAACAAJ'}, u'searchInfo': {u'textSnippet': u'Vers\\xf6hnlich, dass der ge\\xfcbte Autor den Guten im unschuldigen Wei\\xdf letztlich den Sieg g\\xf6nnt und seinen sympathischen Protagonisten Eric in nachahmenswert mutiger Tapferkeit agieren l\\xe4sst. Lesefutter f\\xfcr die zahlreichen Hohlbein-Fans.'}, u'saleInfo': {u'country': u'DE', u'saleability': u'NOT_FOR_SALE', u'isEbook': False}, u'etag': u'hWN7xyhGqmg', u'accessInfo': {u'webReaderLink': u'http://books.google.de/books/reader?id=4ZOwAAAACAAJ&hl=&printsec=frontcover&output=reader&source=gbs_api', u'publicDomain': False, u'embeddable': False, u'country': u'DE', u'textToSpeechPermission': u'ALLOWED', u'pdf': {u'isAvailable': False}, u'quoteSharingAllowed': False, u'viewability': u'NO_PAGES', u'epub': {u'isAvailable': False}, u'accessViewStatus': u'NONE'}, u'id': u'4ZOwAAAACAAJ', u'selfLink': u'https://www.googleapis.com/books/v1/volumes/4ZOwAAAACAAJ'}], u'kind': u'books#volumes'}\n",
      "===============================\n",
      "9783791530123\n",
      "https://www.googleapis.com/books/v1/volumes?q=isbn:9783791530123\n",
      "{u'totalItems': 1, u'items': [{u'kind': u'books#volume', u'volumeInfo': {u'publisher': u'Ingram', u'subtitle': u'ein Roman f\\xfcr Kinder', u'description': u'Zum ersten Mal darf Emil allein nach Berlin fahren. Seine Gro\\xdfmutter und die Kusine Pony H\\xfctchen erwarten ihn am Blumenstand im Bahnhof Friedrichstra\\xdfe. Aber Emil kommt nicht, auch nicht mit dem n\\xe4chsten Zug. W\\xe4hrend die Gro\\xdfmutter und Pony H\\xfctchen noch \\xfcberlegen, was sie tun sollen, hat Emil sich schon in eine aufregende Verfolgungsjagd gest\\xfcrzt. Quer durch die gro\\xdfe fremde Stadt, immer hinter dem Dieb her, der ihm im Zug sein ganzes Geld gestohlen hat. Zum Gl\\xfcck bekommt Emil bald Unterst\\xfctzung: von Gustav mit der Hupe und seinen Jungs.', u'language': u'ja', u'publishedDate': u'1980', u'readingModes': {u'text': False, u'image': False}, u'previewLink': u'http://books.google.de/books?id=YcpdujUWnyYC&dq=isbn:9783791530123&hl=&cd=1&source=gbs_api', u'title': u'Emil und die Detektive', u'printType': u'BOOK', u'canonicalVolumeLink': u'http://books.google.de/books/about/Emil_und_die_Detektive.html?hl=&id=YcpdujUWnyYC', u'pageCount': 166, u'maturityRating': u'NOT_MATURE', u'contentVersion': u'1.1.0.0.preview.0', u'industryIdentifiers': [{u'identifier': u'3791530127', u'type': u'ISBN_10'}, {u'identifier': u'9783791530123', u'type': u'ISBN_13'}], u'imageLinks': {u'smallThumbnail': u'http://books.google.com/books/content?id=YcpdujUWnyYC&printsec=frontcover&img=1&zoom=5&source=gbs_api', u'thumbnail': u'http://books.google.com/books/content?id=YcpdujUWnyYC&printsec=frontcover&img=1&zoom=1&source=gbs_api'}, u'authors': [u'Erich K\\xe4stner'], u'ratingsCount': 2, u'allowAnonLogging': False, u'infoLink': u'http://books.google.de/books?id=YcpdujUWnyYC&dq=isbn:9783791530123&hl=&source=gbs_api', u'categories': [u'Berlin (Germany)'], u'averageRating': 4.5}, u'searchInfo': {u'textSnippet': u'Zum ersten Mal darf Emil allein nach Berlin fahren.'}, u'saleInfo': {u'country': u'DE', u'saleability': u'NOT_FOR_SALE', u'isEbook': False}, u'etag': u'+Q0pC0YJHO0', u'accessInfo': {u'webReaderLink': u'http://books.google.de/books/reader?id=YcpdujUWnyYC&hl=&printsec=frontcover&output=reader&source=gbs_api', u'publicDomain': False, u'embeddable': False, u'country': u'DE', u'textToSpeechPermission': u'ALLOWED', u'pdf': {u'isAvailable': False}, u'quoteSharingAllowed': False, u'viewability': u'NO_PAGES', u'epub': {u'isAvailable': False}, u'accessViewStatus': u'NONE'}, u'id': u'YcpdujUWnyYC', u'selfLink': u'https://www.googleapis.com/books/v1/volumes/YcpdujUWnyYC'}], u'kind': u'books#volumes'}\n",
      "===============================\n",
      "3423790083\n",
      "https://www.googleapis.com/books/v1/volumes?q=isbn:3423790083\n",
      "There seems to be an error with the isbn, no book could be found\n",
      "{'Publisher': u'', 'Language': u'', 'Title': u'Wunderbare Fahrten und Abenteuer der kleinen Dott', 'Authors': [u'Tamara Ramsay'], 'ISBN-13': u'9783423790086', 'Year': u''}\n",
      "===============================\n",
      "352210580X\n",
      "https://www.googleapis.com/books/v1/volumes?q=isbn:352210580X\n",
      "There seems to be an error with the isbn, no book could be found\n",
      "{'Publisher': u'', 'Language': u'', 'Title': u'The little witch', 'Authors': [u'Otfried Preussler', u'Winnie Gayler', u'Anthea Bell', u'Mathias Weber', u'F. J. Tripp'], 'ISBN-13': u'9783522105804', 'Year': u''}\n",
      "===============================\n",
      "9783473345656\n",
      "https://www.googleapis.com/books/v1/volumes?q=isbn:9783473345656\n",
      "{u'totalItems': 1, u'items': [{u'kind': u'books#volume', u'volumeInfo': {u'subtitle': u'Spur des Gifts / aus dem Engl. von Simone Wiemken', u'description': u'Alexandra versucht, einem skrupellosen Chemiefabrikanten auf die Schliche zu kommen, der ihren Vater verschleppt hat. Die M\\xe4dchen und ihre Londoner Freunde geraten in die H\\xe4nde brutaler Wachleute.', u'language': u'de', u'publishedDate': u'1999-01', u'readingModes': {u'text': False, u'image': False}, u'previewLink': u'http://books.google.de/books?id=fa1oAAAACAAJ&dq=isbn:9783473345656&hl=&cd=1&source=gbs_api', u'title': u'Mystery-Club', u'printType': u'BOOK', u'pageCount': 190, u'maturityRating': u'NOT_MATURE', u'contentVersion': u'preview-1.0.0', u'industryIdentifiers': [{u'identifier': u'3473345652', u'type': u'ISBN_10'}, {u'identifier': u'9783473345656', u'type': u'ISBN_13'}], u'imageLinks': {u'smallThumbnail': u'http://books.google.com/books/content?id=fa1oAAAACAAJ&printsec=frontcover&img=1&zoom=5&source=gbs_api', u'thumbnail': u'http://books.google.com/books/content?id=fa1oAAAACAAJ&printsec=frontcover&img=1&zoom=1&source=gbs_api'}, u'authors': [u'Fiona Kelly'], u'allowAnonLogging': False, u'infoLink': u'http://books.google.de/books?id=fa1oAAAACAAJ&dq=isbn:9783473345656&hl=&source=gbs_api', u'canonicalVolumeLink': u'http://books.google.de/books/about/Mystery_Club.html?hl=&id=fa1oAAAACAAJ'}, u'searchInfo': {u'textSnippet': u'Alexandra versucht, einem skrupellosen Chemiefabrikanten auf die Schliche zu kommen, der ihren Vater verschleppt hat. Die M\\xe4dchen und ihre Londoner Freunde geraten in die H\\xe4nde brutaler Wachleute.'}, u'saleInfo': {u'country': u'DE', u'saleability': u'NOT_FOR_SALE', u'isEbook': False}, u'etag': u'y0tg1Gx16g4', u'accessInfo': {u'webReaderLink': u'http://books.google.de/books/reader?id=fa1oAAAACAAJ&hl=&printsec=frontcover&output=reader&source=gbs_api', u'publicDomain': False, u'embeddable': False, u'country': u'DE', u'textToSpeechPermission': u'ALLOWED', u'pdf': {u'isAvailable': False}, u'quoteSharingAllowed': False, u'viewability': u'NO_PAGES', u'epub': {u'isAvailable': False}, u'accessViewStatus': u'NONE'}, u'id': u'fa1oAAAACAAJ', u'selfLink': u'https://www.googleapis.com/books/v1/volumes/fa1oAAAACAAJ'}], u'kind': u'books#volumes'}\n",
      "===============================\n",
      "9783570203033\n",
      "https://www.googleapis.com/books/v1/volumes?q=isbn:9783570203033\n",
      "There seems to be an error with the isbn, no book could be found\n",
      "{'Publisher': u'', 'Language': u'', 'Title': u'Nesth\\xe4kchen und ihre K\\xfcken: Erz\\xe4hlung f\\xfcr j\\xfcnge M\\xe4dchen', 'Authors': [u'Else Ury'], 'ISBN-13': u'9783570203033', 'Year': u'2015'}\n",
      "===============================\n",
      "9783473345724\n",
      "https://www.googleapis.com/books/v1/volumes?q=isbn:9783473345724\n",
      "There seems to be an error with the isbn, no book could be found\n",
      "None\n"
     ]
    },
    {
     "ename": "TypeError",
     "evalue": "'NoneType' object has no attribute '__getitem__'",
     "output_type": "error",
     "traceback": [
      "\u001b[0;31m---------------------------------------------------------------------------\u001b[0m",
      "\u001b[0;31mTypeError\u001b[0m                                 Traceback (most recent call last)",
      "\u001b[0;32m<ipython-input-108-d2694bfc902f>\u001b[0m in \u001b[0;36m<module>\u001b[0;34m()\u001b[0m\n\u001b[1;32m      7\u001b[0m         \u001b[0;32mprint\u001b[0m \u001b[0;34m'wrong format of file, first entry should be an ISBN!'\u001b[0m\u001b[0;34m\u001b[0m\u001b[0m\n\u001b[1;32m      8\u001b[0m     \u001b[0;32mprint\u001b[0m \u001b[0;34m(\u001b[0m\u001b[0mISBN\u001b[0m\u001b[0;34m[\u001b[0m\u001b[0;36m1\u001b[0m\u001b[0;34m]\u001b[0m\u001b[0;34m)\u001b[0m\u001b[0;34m\u001b[0m\u001b[0m\n\u001b[0;32m----> 9\u001b[0;31m     \u001b[0mget_book_info\u001b[0m\u001b[0;34m(\u001b[0m\u001b[0mISBN\u001b[0m\u001b[0;34m[\u001b[0m\u001b[0;36m1\u001b[0m\u001b[0;34m]\u001b[0m\u001b[0;34m)\u001b[0m\u001b[0;34m\u001b[0m\u001b[0m\n\u001b[0m\u001b[1;32m     10\u001b[0m     \u001b[0;31m#dictionary_list.append(get_book_info(ISBN[1]))\u001b[0m\u001b[0;34m\u001b[0m\u001b[0;34m\u001b[0m\u001b[0m\n\u001b[1;32m     11\u001b[0m     \u001b[0;32mprint\u001b[0m \u001b[0;34m(\u001b[0m\u001b[0;34m'==============================='\u001b[0m\u001b[0;34m)\u001b[0m\u001b[0;34m\u001b[0m\u001b[0m\n",
      "\u001b[0;32m<ipython-input-106-417bbf7d1017>\u001b[0m in \u001b[0;36mget_book_info\u001b[0;34m(isbn)\u001b[0m\n\u001b[1;32m      9\u001b[0m         \u001b[0mbook\u001b[0m \u001b[0;34m=\u001b[0m \u001b[0misbnlib\u001b[0m\u001b[0;34m.\u001b[0m\u001b[0mmeta\u001b[0m\u001b[0;34m(\u001b[0m\u001b[0misbn\u001b[0m\u001b[0;34m)\u001b[0m\u001b[0;34m\u001b[0m\u001b[0m\n\u001b[1;32m     10\u001b[0m         \u001b[0;32mprint\u001b[0m \u001b[0mbook\u001b[0m\u001b[0;34m\u001b[0m\u001b[0m\n\u001b[0;32m---> 11\u001b[0;31m         \u001b[0mbook_dic\u001b[0m\u001b[0;34m[\u001b[0m\u001b[0;34m'authors'\u001b[0m\u001b[0;34m]\u001b[0m \u001b[0;34m=\u001b[0m \u001b[0mbook\u001b[0m\u001b[0;34m[\u001b[0m\u001b[0;34m'Authors'\u001b[0m\u001b[0;34m]\u001b[0m\u001b[0;34m[\u001b[0m\u001b[0;36m0\u001b[0m\u001b[0;34m]\u001b[0m\u001b[0;34m\u001b[0m\u001b[0m\n\u001b[0m\u001b[1;32m     12\u001b[0m         \u001b[0mbook_dic\u001b[0m\u001b[0;34m[\u001b[0m\u001b[0;34m'title'\u001b[0m\u001b[0;34m]\u001b[0m \u001b[0;34m=\u001b[0m \u001b[0mbook\u001b[0m\u001b[0;34m[\u001b[0m\u001b[0;34m'Title'\u001b[0m\u001b[0;34m]\u001b[0m\u001b[0;34m\u001b[0m\u001b[0m\n\u001b[1;32m     13\u001b[0m         \u001b[0mbook_dic\u001b[0m\u001b[0;34m[\u001b[0m\u001b[0;34m'year'\u001b[0m\u001b[0;34m]\u001b[0m \u001b[0;34m=\u001b[0m \u001b[0mbook\u001b[0m \u001b[0;34m[\u001b[0m\u001b[0;34m'Year'\u001b[0m\u001b[0;34m]\u001b[0m\u001b[0;34m\u001b[0m\u001b[0m\n",
      "\u001b[0;31mTypeError\u001b[0m: 'NoneType' object has no attribute '__getitem__'"
     ]
    }
   ],
   "source": [
    "dictionary_list = []\n",
    "for l in data:\n",
    "    entry =  l.split(' ')\n",
    "    e = entry[0]\n",
    "    ISBN=e.split('：')\n",
    "    if ISBN[0]!='ISBN':\n",
    "        print 'wrong format of file, first entry should be an ISBN!'\n",
    "    print (ISBN[1])\n",
    "    get_book_info(ISBN[1])\n",
    "    #dictionary_list.append(get_book_info(ISBN[1]))\n",
    "    print ('===============================')"
   ]
  },
  {
   "cell_type": "code",
   "execution_count": 110,
   "metadata": {
    "collapsed": false
   },
   "outputs": [],
   "source": [
    "url = 'http://www.isbnsearch.org/isbn/9783473345724'"
   ]
  },
  {
   "cell_type": "code",
   "execution_count": 111,
   "metadata": {
    "collapsed": false
   },
   "outputs": [
    {
     "ename": "ValueError",
     "evalue": "No JSON object could be decoded",
     "output_type": "error",
     "traceback": [
      "\u001b[0;31m---------------------------------------------------------------------------\u001b[0m",
      "\u001b[0;31mValueError\u001b[0m                                Traceback (most recent call last)",
      "\u001b[0;32m<ipython-input-111-589dfc44bdf5>\u001b[0m in \u001b[0;36m<module>\u001b[0;34m()\u001b[0m\n\u001b[1;32m      1\u001b[0m \u001b[0mresponse\u001b[0m \u001b[0;34m=\u001b[0m \u001b[0murllib\u001b[0m\u001b[0;34m.\u001b[0m\u001b[0murlopen\u001b[0m\u001b[0;34m(\u001b[0m\u001b[0murl\u001b[0m\u001b[0;34m)\u001b[0m\u001b[0;34m\u001b[0m\u001b[0m\n\u001b[0;32m----> 2\u001b[0;31m \u001b[0mbook\u001b[0m \u001b[0;34m=\u001b[0m \u001b[0mjson\u001b[0m\u001b[0;34m.\u001b[0m\u001b[0mloads\u001b[0m\u001b[0;34m(\u001b[0m\u001b[0mresponse\u001b[0m\u001b[0;34m.\u001b[0m\u001b[0mread\u001b[0m\u001b[0;34m(\u001b[0m\u001b[0;34m)\u001b[0m\u001b[0;34m)\u001b[0m\u001b[0;34m\u001b[0m\u001b[0m\n\u001b[0m",
      "\u001b[0;32m/Users/toni_brain/miniconda3/envs/py2k/lib/python2.7/json/__init__.pyc\u001b[0m in \u001b[0;36mloads\u001b[0;34m(s, encoding, cls, object_hook, parse_float, parse_int, parse_constant, object_pairs_hook, **kw)\u001b[0m\n\u001b[1;32m    337\u001b[0m             \u001b[0mparse_int\u001b[0m \u001b[0;32mis\u001b[0m \u001b[0mNone\u001b[0m \u001b[0;32mand\u001b[0m \u001b[0mparse_float\u001b[0m \u001b[0;32mis\u001b[0m \u001b[0mNone\u001b[0m \u001b[0;32mand\u001b[0m\u001b[0;34m\u001b[0m\u001b[0m\n\u001b[1;32m    338\u001b[0m             parse_constant is None and object_pairs_hook is None and not kw):\n\u001b[0;32m--> 339\u001b[0;31m         \u001b[0;32mreturn\u001b[0m \u001b[0m_default_decoder\u001b[0m\u001b[0;34m.\u001b[0m\u001b[0mdecode\u001b[0m\u001b[0;34m(\u001b[0m\u001b[0ms\u001b[0m\u001b[0;34m)\u001b[0m\u001b[0;34m\u001b[0m\u001b[0m\n\u001b[0m\u001b[1;32m    340\u001b[0m     \u001b[0;32mif\u001b[0m \u001b[0mcls\u001b[0m \u001b[0;32mis\u001b[0m \u001b[0mNone\u001b[0m\u001b[0;34m:\u001b[0m\u001b[0;34m\u001b[0m\u001b[0m\n\u001b[1;32m    341\u001b[0m         \u001b[0mcls\u001b[0m \u001b[0;34m=\u001b[0m \u001b[0mJSONDecoder\u001b[0m\u001b[0;34m\u001b[0m\u001b[0m\n",
      "\u001b[0;32m/Users/toni_brain/miniconda3/envs/py2k/lib/python2.7/json/decoder.pyc\u001b[0m in \u001b[0;36mdecode\u001b[0;34m(self, s, _w)\u001b[0m\n\u001b[1;32m    362\u001b[0m \u001b[0;34m\u001b[0m\u001b[0m\n\u001b[1;32m    363\u001b[0m         \"\"\"\n\u001b[0;32m--> 364\u001b[0;31m         \u001b[0mobj\u001b[0m\u001b[0;34m,\u001b[0m \u001b[0mend\u001b[0m \u001b[0;34m=\u001b[0m \u001b[0mself\u001b[0m\u001b[0;34m.\u001b[0m\u001b[0mraw_decode\u001b[0m\u001b[0;34m(\u001b[0m\u001b[0ms\u001b[0m\u001b[0;34m,\u001b[0m \u001b[0midx\u001b[0m\u001b[0;34m=\u001b[0m\u001b[0m_w\u001b[0m\u001b[0;34m(\u001b[0m\u001b[0ms\u001b[0m\u001b[0;34m,\u001b[0m \u001b[0;36m0\u001b[0m\u001b[0;34m)\u001b[0m\u001b[0;34m.\u001b[0m\u001b[0mend\u001b[0m\u001b[0;34m(\u001b[0m\u001b[0;34m)\u001b[0m\u001b[0;34m)\u001b[0m\u001b[0;34m\u001b[0m\u001b[0m\n\u001b[0m\u001b[1;32m    365\u001b[0m         \u001b[0mend\u001b[0m \u001b[0;34m=\u001b[0m \u001b[0m_w\u001b[0m\u001b[0;34m(\u001b[0m\u001b[0ms\u001b[0m\u001b[0;34m,\u001b[0m \u001b[0mend\u001b[0m\u001b[0;34m)\u001b[0m\u001b[0;34m.\u001b[0m\u001b[0mend\u001b[0m\u001b[0;34m(\u001b[0m\u001b[0;34m)\u001b[0m\u001b[0;34m\u001b[0m\u001b[0m\n\u001b[1;32m    366\u001b[0m         \u001b[0;32mif\u001b[0m \u001b[0mend\u001b[0m \u001b[0;34m!=\u001b[0m \u001b[0mlen\u001b[0m\u001b[0;34m(\u001b[0m\u001b[0ms\u001b[0m\u001b[0;34m)\u001b[0m\u001b[0;34m:\u001b[0m\u001b[0;34m\u001b[0m\u001b[0m\n",
      "\u001b[0;32m/Users/toni_brain/miniconda3/envs/py2k/lib/python2.7/json/decoder.pyc\u001b[0m in \u001b[0;36mraw_decode\u001b[0;34m(self, s, idx)\u001b[0m\n\u001b[1;32m    380\u001b[0m             \u001b[0mobj\u001b[0m\u001b[0;34m,\u001b[0m \u001b[0mend\u001b[0m \u001b[0;34m=\u001b[0m \u001b[0mself\u001b[0m\u001b[0;34m.\u001b[0m\u001b[0mscan_once\u001b[0m\u001b[0;34m(\u001b[0m\u001b[0ms\u001b[0m\u001b[0;34m,\u001b[0m \u001b[0midx\u001b[0m\u001b[0;34m)\u001b[0m\u001b[0;34m\u001b[0m\u001b[0m\n\u001b[1;32m    381\u001b[0m         \u001b[0;32mexcept\u001b[0m \u001b[0mStopIteration\u001b[0m\u001b[0;34m:\u001b[0m\u001b[0;34m\u001b[0m\u001b[0m\n\u001b[0;32m--> 382\u001b[0;31m             \u001b[0;32mraise\u001b[0m \u001b[0mValueError\u001b[0m\u001b[0;34m(\u001b[0m\u001b[0;34m\"No JSON object could be decoded\"\u001b[0m\u001b[0;34m)\u001b[0m\u001b[0;34m\u001b[0m\u001b[0m\n\u001b[0m\u001b[1;32m    383\u001b[0m         \u001b[0;32mreturn\u001b[0m \u001b[0mobj\u001b[0m\u001b[0;34m,\u001b[0m \u001b[0mend\u001b[0m\u001b[0;34m\u001b[0m\u001b[0m\n",
      "\u001b[0;31mValueError\u001b[0m: No JSON object could be decoded"
     ]
    }
   ],
   "source": [
    "response = urllib.urlopen(url)\n",
    "book = json.loads(response.read())"
   ]
  },
  {
   "cell_type": "code",
   "execution_count": 114,
   "metadata": {
    "collapsed": false
   },
   "outputs": [
    {
     "data": {
      "text/plain": [
       "''"
      ]
     },
     "execution_count": 114,
     "metadata": {},
     "output_type": "execute_result"
    }
   ],
   "source": [
    "response.read()"
   ]
  },
  {
   "cell_type": "code",
   "execution_count": 17,
   "metadata": {
    "collapsed": false
   },
   "outputs": [
    {
     "name": "stdout",
     "output_type": "stream",
     "text": [
      "https://www.googleapis.com/books/v1/volumes?q=isbn:9783473345649\n"
     ]
    }
   ],
   "source": [
    "url = 'https://www.googleapis.com/books/v1/volumes?q=isbn:' + pair[1]\n",
    "print url\n",
    "#response = urlfetch.fetch(url);\n",
    "#results = JSON.parse(response);"
   ]
  },
  {
   "cell_type": "code",
   "execution_count": 39,
   "metadata": {
    "collapsed": true
   },
   "outputs": [],
   "source": [
    "import urllib\n",
    "import json\n",
    "from pprint import pprint\n",
    "response = urllib.urlopen(url)\n",
    "data = json.loads(response.read())"
   ]
  },
  {
   "cell_type": "code",
   "execution_count": 60,
   "metadata": {
    "collapsed": false
   },
   "outputs": [
    {
     "name": "stdout",
     "output_type": "stream",
     "text": [
      "Fiona Kelly\n",
      "de\n",
      "191\n",
      "Mystery-Club\n",
      "Notlandung im Gebirge / aus dem Engl. von Simone Wiemken\n",
      "1998\n"
     ]
    }
   ],
   "source": [
    "print data['items'][0]['volumeInfo']['authors'][0]\n",
    "print data['items'][0]['volumeInfo']['language']\n",
    "print data['items'][0]['volumeInfo']['pageCount']\n",
    "print data['items'][0]['volumeInfo']['title']\n",
    "print data['items'][0]['volumeInfo']['subtitle']\n",
    "print data['items'][0]['volumeInfo']['publishedDate']"
   ]
  },
  {
   "cell_type": "code",
   "execution_count": 31,
   "metadata": {
    "collapsed": false
   },
   "outputs": [
    {
     "data": {
      "text/plain": [
       "{u'items': [{u'accessInfo': {u'accessViewStatus': u'NONE',\n",
       "    u'country': u'DE',\n",
       "    u'embeddable': False,\n",
       "    u'epub': {u'isAvailable': False},\n",
       "    u'pdf': {u'isAvailable': False},\n",
       "    u'publicDomain': False,\n",
       "    u'quoteSharingAllowed': False,\n",
       "    u'textToSpeechPermission': u'ALLOWED',\n",
       "    u'viewability': u'NO_PAGES',\n",
       "    u'webReaderLink': u'http://books.google.de/books/reader?id=wlRDPQAACAAJ&hl=&printsec=frontcover&output=reader&source=gbs_api'},\n",
       "   u'etag': u'U9qAoSooTNI',\n",
       "   u'id': u'wlRDPQAACAAJ',\n",
       "   u'kind': u'books#volume',\n",
       "   u'saleInfo': {u'country': u'DE',\n",
       "    u'isEbook': False,\n",
       "    u'saleability': u'NOT_FOR_SALE'},\n",
       "   u'searchInfo': {u'textSnippet': u'Holly, Belinda und Tracy verbringen ihre Ferien in Schottland. Dabei werden sie Zeugen eines Sportflugzeug-Unfalls. Mit ihrem Freund Bobby sind sie die ersten an der Ungl\\xfccksstelle. Vom Piloten und einem Geldkoffer fehlt jedoch jede Spur.'},\n",
       "   u'selfLink': u'https://www.googleapis.com/books/v1/volumes/wlRDPQAACAAJ',\n",
       "   u'volumeInfo': {u'allowAnonLogging': False,\n",
       "    u'authors': [u'Fiona Kelly'],\n",
       "    u'canonicalVolumeLink': u'http://books.google.de/books/about/Mystery_Club.html?hl=&id=wlRDPQAACAAJ',\n",
       "    u'contentVersion': u'preview-1.0.0',\n",
       "    u'description': u'Holly, Belinda und Tracy verbringen ihre Ferien in Schottland. Dabei werden sie Zeugen eines Sportflugzeug-Unfalls. Mit ihrem Freund Bobby sind sie die ersten an der Ungl\\xfccksstelle. Vom Piloten und einem Geldkoffer fehlt jedoch jede Spur.',\n",
       "    u'imageLinks': {u'smallThumbnail': u'http://books.google.com/books/content?id=wlRDPQAACAAJ&printsec=frontcover&img=1&zoom=5&source=gbs_api',\n",
       "     u'thumbnail': u'http://books.google.com/books/content?id=wlRDPQAACAAJ&printsec=frontcover&img=1&zoom=1&source=gbs_api'},\n",
       "    u'industryIdentifiers': [{u'identifier': u'3473345644',\n",
       "      u'type': u'ISBN_10'},\n",
       "     {u'identifier': u'9783473345649', u'type': u'ISBN_13'}],\n",
       "    u'infoLink': u'http://books.google.de/books?id=wlRDPQAACAAJ&dq=isbn:9783473345649&hl=&source=gbs_api',\n",
       "    u'language': u'de',\n",
       "    u'maturityRating': u'NOT_MATURE',\n",
       "    u'pageCount': 191,\n",
       "    u'previewLink': u'http://books.google.de/books?id=wlRDPQAACAAJ&dq=isbn:9783473345649&hl=&cd=1&source=gbs_api',\n",
       "    u'printType': u'BOOK',\n",
       "    u'publishedDate': u'1998',\n",
       "    u'readingModes': {u'image': False, u'text': False},\n",
       "    u'subtitle': u'Notlandung im Gebirge / aus dem Engl. von Simone Wiemken',\n",
       "    u'title': u'Mystery-Club'}}],\n",
       " u'kind': u'books#volumes',\n",
       " u'totalItems': 1}"
      ]
     },
     "execution_count": 31,
     "metadata": {},
     "output_type": "execute_result"
    }
   ],
   "source": [
    "data"
   ]
  },
  {
   "cell_type": "code",
   "execution_count": null,
   "metadata": {
    "collapsed": true
   },
   "outputs": [],
   "source": []
  }
 ],
 "metadata": {
  "anaconda-cloud": {},
  "kernelspec": {
   "display_name": "Python 2",
   "language": "python",
   "name": "python2"
  },
  "language_info": {
   "codemirror_mode": {
    "name": "ipython",
    "version": 2
   },
   "file_extension": ".py",
   "mimetype": "text/x-python",
   "name": "python",
   "nbconvert_exporter": "python",
   "pygments_lexer": "ipython2",
   "version": "2.7.12"
  }
 },
 "nbformat": 4,
 "nbformat_minor": 0
}
